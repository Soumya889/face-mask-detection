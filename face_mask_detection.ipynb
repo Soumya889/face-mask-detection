{
  "nbformat": 4,
  "nbformat_minor": 0,
  "metadata": {
    "colab": {
      "name": "face_mask_detection.ipynb",
      "provenance": []
    },
    "kernelspec": {
      "name": "python3",
      "display_name": "Python 3"
    },
    "language_info": {
      "name": "python"
    },
    "accelerator": "GPU"
  },
  "cells": [
    {
      "cell_type": "code",
      "metadata": {
        "id": "AdOZcA7WFkeO"
      },
      "source": [
        "from tensorflow.keras.preprocessing.image import ImageDataGenerator\n",
        "from tensorflow.keras.applications import MobileNetV2\n",
        "from tensorflow.keras.layers import AveragePooling2D\n",
        "from tensorflow.keras.layers import Dropout\n",
        "from tensorflow.keras.layers import Flatten\n",
        "from tensorflow.keras.layers import Dense\n",
        "from tensorflow.keras.layers import Input\n",
        "from tensorflow.keras.models import Model\n",
        "from tensorflow.keras.optimizers import Adam\n",
        "from tensorflow.keras.applications.mobilenet_v2 import preprocess_input\n",
        "from tensorflow.keras.preprocessing.image import img_to_array\n",
        "from tensorflow.keras.preprocessing.image import load_img\n",
        "from tensorflow.keras.utils import to_categorical\n",
        "from sklearn.preprocessing import LabelBinarizer\n",
        "from sklearn.model_selection import train_test_split\n",
        "from sklearn.metrics import classification_report\n",
        "from imutils import paths\n",
        "import matplotlib.pyplot as plt\n",
        "import numpy as np\n",
        "import argparse\n",
        "import os\n",
        "import tensorflow as tf\n",
        "import pandas as pd\n",
        "import seaborn as sns\n",
        "\n"
      ],
      "execution_count": null,
      "outputs": []
    },
    {
      "cell_type": "code",
      "metadata": {
        "id": "atiM6Z9oFw_B"
      },
      "source": [
        "!#unzip '/content/drive/MyDrive/onedrive image/OneDrive_2021-09-03.zip'"
      ],
      "execution_count": null,
      "outputs": []
    },
    {
      "cell_type": "code",
      "metadata": {
        "colab": {
          "base_uri": "https://localhost:8080/"
        },
        "id": "xbrCpJZ-GNJV",
        "outputId": "88ddbd22-f359-4dfe-f3f0-63081941e035"
      },
      "source": [
        "# grab the list of images in our dataset directory, then initialize\n",
        "# the list of data (i.e., images) and class images\n",
        "pathname = \"/content/6659 images\"\n",
        "print(\"loading images...\")\n",
        "imagePaths = list(paths.list_images(pathname))\n",
        "data = []\n",
        "labels = []"
      ],
      "execution_count": null,
      "outputs": [
        {
          "output_type": "stream",
          "name": "stdout",
          "text": [
            "loading images...\n"
          ]
        }
      ]
    },
    {
      "cell_type": "code",
      "metadata": {
        "id": "6SjpSeRV8Pjc"
      },
      "source": [
        ""
      ],
      "execution_count": null,
      "outputs": []
    },
    {
      "cell_type": "code",
      "metadata": {
        "id": "sIGrQt1xBsoW"
      },
      "source": [
        "from sklearn.preprocessing import LabelEncoder\n",
        "from sklearn.preprocessing import OneHotEncoder"
      ],
      "execution_count": null,
      "outputs": []
    },
    {
      "cell_type": "code",
      "metadata": {
        "id": "Lf7w1L9kGrQj",
        "colab": {
          "base_uri": "https://localhost:8080/"
        },
        "outputId": "bd3c861a-1d04-4fed-b875-e9d83d3d17e3"
      },
      "source": [
        "# loop over the image paths\n",
        "for imagePath in imagePaths:\n",
        "\t# extract the class label from the filename\n",
        "\tlabel = imagePath.split(os.path.sep)[-2]\n",
        "\n",
        "\t# load the input image (224x224) and preprocess it\n",
        "\timage = load_img(imagePath,target_size = (224,224))\n",
        "\timage = img_to_array(image)\n",
        "\timage = preprocess_input(image)\n",
        "\n",
        "\t# update the data and labels lists, respectively\n",
        "\tdata.append(image)\n",
        "\tlabels.append(label)\n",
        "\n",
        "# convert the data and labels to NumPy arrays\n",
        "data = np.array(data, dtype=\"float32\")\n",
        "labels = np.array(labels)\n",
        "\n",
        "# perform one-hot encoding on the labels\n",
        "\n"
      ],
      "execution_count": null,
      "outputs": [
        {
          "output_type": "stream",
          "name": "stderr",
          "text": [
            "/usr/local/lib/python3.7/dist-packages/PIL/Image.py:960: UserWarning: Palette images with Transparency expressed in bytes should be converted to RGBA images\n",
            "  \"Palette images with Transparency expressed in bytes should be \"\n"
          ]
        }
      ]
    },
    {
      "cell_type": "code",
      "metadata": {
        "id": "HcE4HnhCF3t1"
      },
      "source": [
        "lb = LabelEncoder()\n",
        "labels = lb.fit_transform(labels)\n",
        "labels = to_categorical(labels)"
      ],
      "execution_count": null,
      "outputs": []
    },
    {
      "cell_type": "code",
      "metadata": {
        "colab": {
          "base_uri": "https://localhost:8080/"
        },
        "id": "7tLTdQVxGPY8",
        "outputId": "9cef9ab3-6808-475a-f833-a544f459ea0a"
      },
      "source": [
        "labels"
      ],
      "execution_count": null,
      "outputs": [
        {
          "output_type": "execute_result",
          "data": {
            "text/plain": [
              "array([[1., 0., 0.],\n",
              "       [1., 0., 0.],\n",
              "       [1., 0., 0.],\n",
              "       ...,\n",
              "       [0., 1., 0.],\n",
              "       [0., 1., 0.],\n",
              "       [0., 1., 0.]], dtype=float32)"
            ]
          },
          "metadata": {},
          "execution_count": 7
        }
      ]
    },
    {
      "cell_type": "code",
      "metadata": {
        "colab": {
          "base_uri": "https://localhost:8080/"
        },
        "id": "bvzrvAjLGXZy",
        "outputId": "6609937f-a1cd-4227-cd6f-2da8f3a63506"
      },
      "source": [
        "#labels.todense()"
      ],
      "execution_count": null,
      "outputs": [
        {
          "output_type": "execute_result",
          "data": {
            "text/plain": [
              "matrix([[1., 0., 0.],\n",
              "        [1., 0., 0.],\n",
              "        [1., 0., 0.],\n",
              "        ...,\n",
              "        [0., 1., 0.],\n",
              "        [0., 1., 0.],\n",
              "        [0., 1., 0.]])"
            ]
          },
          "metadata": {},
          "execution_count": 10
        }
      ]
    },
    {
      "cell_type": "code",
      "metadata": {
        "colab": {
          "base_uri": "https://localhost:8080/"
        },
        "id": "z4i8JflN8eKv",
        "outputId": "e651025c-11f7-43ba-d363-df5d6a230f9b"
      },
      "source": [
        "data.shape"
      ],
      "execution_count": null,
      "outputs": [
        {
          "output_type": "execute_result",
          "data": {
            "text/plain": [
              "(6659, 224, 224, 3)"
            ]
          },
          "metadata": {},
          "execution_count": 8
        }
      ]
    },
    {
      "cell_type": "code",
      "metadata": {
        "id": "6xspM4r8HvSs"
      },
      "source": [
        ""
      ],
      "execution_count": null,
      "outputs": []
    },
    {
      "cell_type": "code",
      "metadata": {
        "id": "mtU8Oj-mICI8"
      },
      "source": [
        ""
      ],
      "execution_count": null,
      "outputs": []
    },
    {
      "cell_type": "code",
      "metadata": {
        "id": "kEBeEPzSG5Gr"
      },
      "source": [
        "# partition the data into training and testing splits using 75% of\n",
        "# the data for training and the remaining 25% for testing\n",
        "\n",
        "\n",
        "(trainX, testX, trainY, testY) = train_test_split(data, labels,\n",
        "\ttest_size=0.25, stratify=labels, random_state=43)\n",
        "\n",
        "# construct the training image generator for data augmentation\n",
        "aug = ImageDataGenerator(\n",
        "\trotation_range=20,\n",
        "\tzoom_range=0.15,\n",
        "\twidth_shift_range=0.2,\n",
        "\theight_shift_range=0.2,\n",
        "\tshear_range=0.15,\n",
        "\thorizontal_flip=True,\n",
        "\tfill_mode=\"nearest\")"
      ],
      "execution_count": null,
      "outputs": []
    },
    {
      "cell_type": "code",
      "metadata": {
        "colab": {
          "base_uri": "https://localhost:8080/"
        },
        "id": "oGGswmvwHHnk",
        "outputId": "24f26d1d-a82e-4952-d85a-cca8ecb9ee22"
      },
      "source": [
        "# load the MobileNetV2 network, ensuring the head FC layer sets are\n",
        "# left off\n",
        "baseModel = MobileNetV2(weights=\"imagenet\", include_top=False,\n",
        "\tinput_tensor=Input(shape=(224, 224, 3)))\n",
        "\n",
        "# construct the head of the model that will be placed on top of the\n",
        "# the base model\n",
        "headModel = baseModel.output\n",
        "headModel = AveragePooling2D(pool_size=(7, 7))(headModel)\n",
        "headModel = Flatten(name=\"flatten\")(headModel)\n",
        "headModel = Dense(128, activation=\"relu\")(headModel)\n",
        "headModel = Dropout(0.5)(headModel)\n",
        "headModel = Dense(3, activation=\"softmax\")(headModel)\n",
        "\n",
        "# place the head FC model on top of the base model (this will become\n",
        "# the actual model we will train)\n",
        "model = Model(inputs=baseModel.input, outputs=headModel)"
      ],
      "execution_count": null,
      "outputs": [
        {
          "output_type": "stream",
          "name": "stdout",
          "text": [
            "WARNING:tensorflow:`input_shape` is undefined or non-square, or `rows` is not in [96, 128, 160, 192, 224]. Weights for input shape (224, 224) will be loaded as the default.\n"
          ]
        }
      ]
    },
    {
      "cell_type": "code",
      "metadata": {
        "id": "8tf66nP493E6"
      },
      "source": [
        "INIT_LR = 1e-4\n",
        "EPOCHS = 20\n",
        "BS = 32"
      ],
      "execution_count": null,
      "outputs": []
    },
    {
      "cell_type": "code",
      "metadata": {
        "id": "SHmBGR-lI7MZ",
        "colab": {
          "base_uri": "https://localhost:8080/"
        },
        "outputId": "5fcfae5f-6088-4cb8-a56b-153871aa4eaf"
      },
      "source": [
        "# loop over all layers in the base model and freeze them so they will\n",
        "# *not* be updated during the first training process\n",
        "for layer in baseModel.layers:\n",
        "\tlayer.trainable = False\n",
        "\n",
        "# compile our model\n",
        "print(\"compiling model...\")\n",
        "opt = Adam(learning_rate=INIT_LR, decay=INIT_LR / EPOCHS)\n",
        "model.compile(loss=\"categorical_crossentropy\", optimizer=opt,\n",
        "\tmetrics=[\"accuracy\"])"
      ],
      "execution_count": null,
      "outputs": [
        {
          "output_type": "stream",
          "name": "stdout",
          "text": [
            "compiling model...\n"
          ]
        }
      ]
    },
    {
      "cell_type": "code",
      "metadata": {
        "colab": {
          "base_uri": "https://localhost:8080/"
        },
        "id": "2uKU0rlTAd3g",
        "outputId": "7306885d-5781-4fe3-b489-b3fd339e3910"
      },
      "source": [
        "#trainY"
      ],
      "execution_count": null,
      "outputs": [
        {
          "output_type": "execute_result",
          "data": {
            "text/plain": [
              "array([[0., 1., 0.],\n",
              "       [1., 0., 0.],\n",
              "       [0., 0., 1.],\n",
              "       ...,\n",
              "       [1., 0., 0.],\n",
              "       [1., 0., 0.],\n",
              "       [1., 0., 0.]], dtype=float32)"
            ]
          },
          "metadata": {},
          "execution_count": 13
        }
      ]
    },
    {
      "cell_type": "code",
      "metadata": {
        "colab": {
          "base_uri": "https://localhost:8080/"
        },
        "id": "WtNbSWtK97Yg",
        "outputId": "0981e541-9a00-4364-a010-878a3eee7872"
      },
      "source": [
        "# train the head of the network\n",
        "print(\"training head...\")\n",
        "H = model.fit(\n",
        "\taug.flow(trainX, trainY, batch_size=BS),\n",
        "\tvalidation_data=(testX, testY),\n",
        "\t#validation_steps=len(testX) // BS,\n",
        "\tepochs=EPOCHS)"
      ],
      "execution_count": null,
      "outputs": [
        {
          "output_type": "stream",
          "name": "stdout",
          "text": [
            "training head...\n",
            "Epoch 1/20\n",
            "157/157 [==============================] - 101s 447ms/step - loss: 0.6150 - accuracy: 0.7505 - val_loss: 0.2185 - val_accuracy: 0.9369\n",
            "Epoch 2/20\n",
            "157/157 [==============================] - 69s 439ms/step - loss: 0.2843 - accuracy: 0.8993 - val_loss: 0.1436 - val_accuracy: 0.9562\n",
            "Epoch 3/20\n",
            "157/157 [==============================] - 66s 422ms/step - loss: 0.2090 - accuracy: 0.9265 - val_loss: 0.1163 - val_accuracy: 0.9646\n",
            "Epoch 4/20\n",
            "157/157 [==============================] - 67s 427ms/step - loss: 0.1646 - accuracy: 0.9417 - val_loss: 0.0989 - val_accuracy: 0.9706\n",
            "Epoch 5/20\n",
            "157/157 [==============================] - 65s 415ms/step - loss: 0.1519 - accuracy: 0.9487 - val_loss: 0.0898 - val_accuracy: 0.9718\n",
            "Epoch 6/20\n",
            "157/157 [==============================] - 66s 423ms/step - loss: 0.1317 - accuracy: 0.9529 - val_loss: 0.0836 - val_accuracy: 0.9736\n",
            "Epoch 7/20\n",
            "157/157 [==============================] - 65s 413ms/step - loss: 0.1166 - accuracy: 0.9614 - val_loss: 0.0761 - val_accuracy: 0.9736\n",
            "Epoch 8/20\n",
            "157/157 [==============================] - 66s 422ms/step - loss: 0.1074 - accuracy: 0.9658 - val_loss: 0.0756 - val_accuracy: 0.9730\n",
            "Epoch 9/20\n",
            "157/157 [==============================] - 65s 416ms/step - loss: 0.0953 - accuracy: 0.9706 - val_loss: 0.0681 - val_accuracy: 0.9766\n",
            "Epoch 10/20\n",
            "157/157 [==============================] - 66s 420ms/step - loss: 0.0915 - accuracy: 0.9704 - val_loss: 0.0655 - val_accuracy: 0.9790\n",
            "Epoch 11/20\n",
            "157/157 [==============================] - 66s 421ms/step - loss: 0.0881 - accuracy: 0.9736 - val_loss: 0.0661 - val_accuracy: 0.9784\n",
            "Epoch 12/20\n",
            "157/157 [==============================] - 66s 419ms/step - loss: 0.0813 - accuracy: 0.9742 - val_loss: 0.0654 - val_accuracy: 0.9772\n",
            "Epoch 13/20\n",
            "157/157 [==============================] - 67s 426ms/step - loss: 0.0846 - accuracy: 0.9716 - val_loss: 0.0606 - val_accuracy: 0.9796\n",
            "Epoch 14/20\n",
            "157/157 [==============================] - 65s 411ms/step - loss: 0.0738 - accuracy: 0.9778 - val_loss: 0.0620 - val_accuracy: 0.9784\n",
            "Epoch 15/20\n",
            "157/157 [==============================] - 65s 414ms/step - loss: 0.0701 - accuracy: 0.9780 - val_loss: 0.0648 - val_accuracy: 0.9802\n",
            "Epoch 16/20\n",
            "157/157 [==============================] - 65s 416ms/step - loss: 0.0698 - accuracy: 0.9784 - val_loss: 0.0554 - val_accuracy: 0.9814\n",
            "Epoch 17/20\n",
            "157/157 [==============================] - 65s 415ms/step - loss: 0.0678 - accuracy: 0.9780 - val_loss: 0.0539 - val_accuracy: 0.9808\n",
            "Epoch 18/20\n",
            "157/157 [==============================] - 67s 429ms/step - loss: 0.0642 - accuracy: 0.9792 - val_loss: 0.0546 - val_accuracy: 0.9796\n",
            "Epoch 19/20\n",
            "157/157 [==============================] - 66s 421ms/step - loss: 0.0641 - accuracy: 0.9764 - val_loss: 0.0553 - val_accuracy: 0.9808\n",
            "Epoch 20/20\n",
            "157/157 [==============================] - 66s 420ms/step - loss: 0.0624 - accuracy: 0.9802 - val_loss: 0.0519 - val_accuracy: 0.9808\n"
          ]
        }
      ]
    },
    {
      "cell_type": "code",
      "metadata": {
        "colab": {
          "base_uri": "https://localhost:8080/"
        },
        "id": "Sd1xtQRW-ERR",
        "outputId": "5a380ef1-638a-418e-ec41-bf219fdc2ad3"
      },
      "source": [
        "# make predictions on the testing set\n",
        "print(\"evaluating network...\")\n",
        "predIdxs = model.predict(testX, batch_size=BS)\n",
        "\n",
        "# for each image in the testing set we need to find the index of the\n",
        "# label with corresponding largest predicted probability\n",
        "predIdxs = np.argmax(predIdxs, axis=1)\n",
        "\n",
        "# show a nicely formatted classification report\n",
        "print(classification_report(testY.argmax(axis=1), predIdxs,\n",
        "\ttarget_names=lb.classes_))\n",
        "\n",
        "# serialize the model to disk\n",
        "print(\"saving face mask detector model...\")\n",
        "model.save(\"/content/drive/MyDrive/face_mask_detector_1\", save_format=\"h5\")"
      ],
      "execution_count": null,
      "outputs": [
        {
          "output_type": "stream",
          "name": "stdout",
          "text": [
            "evaluating network...\n",
            "               precision    recall  f1-score   support\n",
            "\n",
            "improper_mask       0.97      1.00      0.98       555\n",
            "    with_mask       0.98      0.98      0.98       555\n",
            " without_mask       0.99      0.97      0.98       555\n",
            "\n",
            "     accuracy                           0.98      1665\n",
            "    macro avg       0.98      0.98      0.98      1665\n",
            " weighted avg       0.98      0.98      0.98      1665\n",
            "\n",
            "saving face mask detector model...\n"
          ]
        },
        {
          "output_type": "stream",
          "name": "stderr",
          "text": [
            "/usr/local/lib/python3.7/dist-packages/keras/utils/generic_utils.py:497: CustomMaskWarning: Custom mask layers require a config and must override get_config. When loading, the custom mask layer must be passed to the custom_objects argument.\n",
            "  category=CustomMaskWarning)\n"
          ]
        }
      ]
    }
  ]
}